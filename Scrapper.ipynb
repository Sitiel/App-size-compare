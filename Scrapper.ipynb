{
 "cells": [
  {
   "cell_type": "code",
   "execution_count": 46,
   "metadata": {},
   "outputs": [],
   "source": [
    "import pandas as pd\n",
    "from datetime import datetime\n",
    "import bs4\n",
    "import random\n",
    "import requests\n",
    "import json\n",
    "# !pip install fake-useragent\n",
    "from fake_useragent import UserAgent\n",
    "import itertools as it\n",
    "\n",
    "urls = {\n",
    "    'OneDrive': 'https://androidapksfree.com/onedrive/com-microsoft-skydrive/old/',\n",
    "    'MiHome'  : 'https://androidapksfree.com/mihome/com-xiaomi-smarthome/old/',\n",
    "    'WhatsApp': 'https://androidapksfree.com/whatsapp-messenger/com-whatsapp/old/',\n",
    "    'Facebook': 'https://androidapksfree.com/facebook/com-facebook-katana/old/',\n",
    "    'YouTube' : 'https://androidapksfree.com/youtube/com-google-android-youtube/old/'\n",
    "}\n",
    "\n",
    "# https://www.proxy-list.download/HTTPS\n",
    "# in case black list (seems to not be the case so I'm not using it for now)\n",
    "# proxies = pd.read_csv('proxy_list.txt', header = None)\n",
    "# proxies = proxies.values.tolist()\n",
    "# proxies = list(it.chain.from_iterable(proxies))\n",
    "proxies = []\n",
    "\n",
    "def get_data(url, proxies):\n",
    "    \n",
    "    df = pd.DataFrame()\n",
    "    ua = UserAgent()\n",
    "    # proxy_pool = it.cycle(proxies)\n",
    "    df_f = pd.DataFrame()\n",
    "    # proxy = next(proxy_pool)\n",
    "    try:\n",
    "        response = requests.get(url, headers={'User-Agent': ua.random},timeout=30)\n",
    "        return response.text\n",
    "    except e:\n",
    "        print(\"Skipping. Connnection error :\", e)\n",
    "                \n",
    "    return 'error'\n",
    "\n",
    "data = {}\n",
    "for app, url in urls.items():\n",
    "    data[app] = get_data(url, proxies)"
   ]
  },
  {
   "cell_type": "code",
   "execution_count": 47,
   "metadata": {},
   "outputs": [],
   "source": [
    "import re\n",
    "\n",
    "regex_size_extract = r\".*Size: ?(.*)\"\n",
    "applications = {}\n",
    "for app, d in data.items():\n",
    "    versions = []\n",
    "    soup = bs4.BeautifulSoup(d, 'html.parser')\n",
    "    em_box = soup.find_all(\"article\")\n",
    "    for article in em_box:\n",
    "        for div in article.find_all(\"div\", {'class': 'date-on-tax'}):\n",
    "            article_description = div.find_all(\"div\")\n",
    "            div_size = article_description[0].string\n",
    "            div_date = article_description[2].find(\"span\").string\n",
    "            matches = re.search(regex_size_extract, div_size, re.MULTILINE)\n",
    "            versions.append((div_date, matches.group(1).strip()))\n",
    "    applications[app] = list(reversed(versions))[:-1]"
   ]
  },
  {
   "cell_type": "code",
   "execution_count": 6,
   "metadata": {
    "scrolled": false
   },
   "outputs": [],
   "source": [
    "import matplotlib\n",
    "import matplotlib.pyplot as plt\n",
    "%matplotlib inline\n",
    "\n",
    "for name, app in applications.items():\n",
    "    plt.plot([date for date, size in app], [float(size.split()[0]) for date, size in app])\n",
    "    plt.xlabel('versions')\n",
    "    plt.ylabel('size in MB')\n",
    "    plt.title(name +' application size evolution')\n",
    "    plt.subplots_adjust(top=3, right=2)\n",
    "    plt.show()"
   ]
  },
  {
   "cell_type": "code",
   "execution_count": 66,
   "metadata": {},
   "outputs": [],
   "source": [
    "def update_date(version):\n",
    "    version_dict = dict()\n",
    "    version_date = datetime.strptime(version[0], \"%B %d, %Y\")\n",
    "    version_dict[\"date\"] = version_date.strftime(\"%d-%m-%Y\")\n",
    "    version_dict[\"size\"] = version[1]\n",
    "    return version_dict\n",
    "\n",
    "def create_json(app) :\n",
    "    versions = dict()\n",
    "    versions[\"versions\"] = list(map(update_date, app))\n",
    "    return versions"
   ]
  },
  {
   "cell_type": "code",
   "execution_count": 67,
   "metadata": {},
   "outputs": [],
   "source": [
    "applications_json = dict(map(lambda key_value: (key_value[0], create_json(key_value[1])), applications.items()))\n",
    "file = open(\"data.json\", \"w\")\n",
    "file.write(json.dumps(applications_json))\n",
    "file.close()"
   ]
  },
  {
   "cell_type": "code",
   "execution_count": null,
   "metadata": {},
   "outputs": [],
   "source": []
  }
 ],
 "metadata": {
  "kernelspec": {
   "display_name": "Python 3",
   "language": "python",
   "name": "python3"
  },
  "language_info": {
   "codemirror_mode": {
    "name": "ipython",
    "version": 3
   },
   "file_extension": ".py",
   "mimetype": "text/x-python",
   "name": "python",
   "nbconvert_exporter": "python",
   "pygments_lexer": "ipython3",
   "version": "3.7.4"
  }
 },
 "nbformat": 4,
 "nbformat_minor": 2
}
